{
 "cells": [
  {
   "cell_type": "code",
   "execution_count": 1,
   "metadata": {},
   "outputs": [],
   "source": [
    "import pandas as pd\n",
    "import re\n"
   ]
  },
  {
   "cell_type": "code",
   "execution_count": 2,
   "metadata": {},
   "outputs": [],
   "source": [
    "df = pd.read_csv(\"../data/avatar_transcripts.csv\")\n"
   ]
  },
  {
   "cell_type": "code",
   "execution_count": 3,
   "metadata": {},
   "outputs": [
    {
     "data": {
      "text/plain": [
       "9994"
      ]
     },
     "execution_count": 3,
     "metadata": {},
     "output_type": "execute_result"
    }
   ],
   "source": [
    "len(df)"
   ]
  },
  {
   "cell_type": "code",
   "execution_count": 4,
   "metadata": {},
   "outputs": [
    {
     "name": "stdout",
     "output_type": "stream",
     "text": [
      "372\n"
     ]
    }
   ],
   "source": [
    "character_list = df.character.unique()\n",
    "print(len(character_list))"
   ]
  },
  {
   "attachments": {},
   "cell_type": "markdown",
   "metadata": {},
   "source": [
    "thats a lot of characters i wonder if there is an easy way to determin who is \"nameless\" like village kid 1 or guard."
   ]
  },
  {
   "cell_type": "code",
   "execution_count": 5,
   "metadata": {},
   "outputs": [
    {
     "data": {
      "text/plain": [
       "['Katara',\n",
       " 'Sokka',\n",
       " 'Zuko',\n",
       " 'Iroh',\n",
       " 'Aang',\n",
       " 'Kanna',\n",
       " 'Village girl',\n",
       " 'Southern Water Tribe boy',\n",
       " 'Village boy',\n",
       " 'Village kids',\n",
       " 'Southern Water Tribe girl',\n",
       " 'Firebender',\n",
       " 'Zhao',\n",
       " 'Soldier',\n",
       " 'Gyatso',\n",
       " 'Aang and Sokka',\n",
       " 'Fire Sage',\n",
       " 'Oyaji',\n",
       " 'Suki',\n",
       " 'Spectators',\n",
       " 'Little girl',\n",
       " 'Fisherman',\n",
       " 'Painter',\n",
       " 'Fangirls',\n",
       " 'Koko',\n",
       " 'Little Girl',\n",
       " 'Gate guard',\n",
       " 'Cabbage merchant',\n",
       " 'Bumi',\n",
       " 'Guard',\n",
       " 'Chamberlain',\n",
       " 'Haru',\n",
       " \"Haru's mother\",\n",
       " 'Tax collector',\n",
       " 'Old man',\n",
       " 'Warden',\n",
       " 'Tyro',\n",
       " 'Prisoner',\n",
       " 'Captain',\n",
       " 'Kay-fon',\n",
       " 'Senlin Village leader',\n",
       " 'Earthbender captain',\n",
       " 'Fire Nation Soldier',\n",
       " 'Engineer',\n",
       " 'Great Fire Sage',\n",
       " 'Shyu',\n",
       " 'Roku',\n",
       " 'Oh',\n",
       " 'Pirate captain',\n",
       " 'Pirate',\n",
       " 'Together',\n",
       " 'Eye-patch soldier',\n",
       " 'Jet',\n",
       " 'Fire Nation soldier',\n",
       " 'Pipsqueak',\n",
       " 'The Duke',\n",
       " 'Smellerbee',\n",
       " 'Old Fire Nation civilian',\n",
       " 'Aang:',\n",
       " 'Gan Jin tribesman',\n",
       " 'Zhang leader',\n",
       " 'Canyon guide',\n",
       " 'Gan Jin leader',\n",
       " 'Gan Jin Leader',\n",
       " 'Gan Jin man',\n",
       " 'Gyatso and Katara',\n",
       " 'Merchant woman',\n",
       " 'Shopkeeper',\n",
       " \"Fisherman's wife\",\n",
       " 'Lieutenant Jee',\n",
       " 'Jee',\n",
       " 'Air Nomad boy #1',\n",
       " 'Air Nomad boy #2',\n",
       " 'Tashi',\n",
       " 'Pasang',\n",
       " 'Young Zuko',\n",
       " 'Bujing',\n",
       " 'Elder soldier',\n",
       " 'Ozai',\n",
       " 'Shinu',\n",
       " 'Messenger',\n",
       " 'Scout #1',\n",
       " 'Scout #2',\n",
       " 'Herbalist',\n",
       " 'Scribe',\n",
       " 'Calm man',\n",
       " 'Strange Man',\n",
       " 'Meng',\n",
       " 'Woman',\n",
       " 'Wu',\n",
       " 'Village Woman',\n",
       " 'Farmer',\n",
       " 'Poi and Ping',\n",
       " 'Man',\n",
       " 'Man with Red Shoes',\n",
       " 'Poi',\n",
       " 'Ping',\n",
       " 'Firebenders',\n",
       " 'June',\n",
       " 'Hakoda',\n",
       " 'Bato',\n",
       " 'Mother Superior',\n",
       " 'Aunt Wu',\n",
       " 'Mask dealer',\n",
       " 'Shop keeper',\n",
       " 'Puppet Fire Lord',\n",
       " 'Fire Nation kids',\n",
       " 'Malu',\n",
       " 'Citizen',\n",
       " 'Chey',\n",
       " 'Lin Yee',\n",
       " 'Guard captain',\n",
       " 'Jeong Jeong',\n",
       " 'Tribal man',\n",
       " 'Storyteller',\n",
       " 'Colonists',\n",
       " 'Teo',\n",
       " 'Mechanist',\n",
       " 'Both',\n",
       " 'Qin',\n",
       " 'Girl',\n",
       " 'Li',\n",
       " 'Arnook',\n",
       " 'Yue',\n",
       " 'Pakku',\n",
       " 'Yagoda',\n",
       " 'Crew member',\n",
       " 'Hahn',\n",
       " 'Baboon spirit',\n",
       " 'Koh',\n",
       " 'Azula',\n",
       " 'Fong',\n",
       " 'Lo',\n",
       " 'Oracle',\n",
       " 'Chong',\n",
       " 'Moku',\n",
       " 'Lily',\n",
       " 'Commander',\n",
       " 'Team Avatar',\n",
       " 'Song',\n",
       " \"Song's mother\",\n",
       " 'Guard one',\n",
       " 'Guard two',\n",
       " 'Lo and Li',\n",
       " 'Mai',\n",
       " 'Michi',\n",
       " 'Resistance fighter',\n",
       " 'Yung',\n",
       " 'Ty Lee',\n",
       " 'King Bumi',\n",
       " 'Resistance fighter #1',\n",
       " 'Resistance fighter #2',\n",
       " 'Ukano',\n",
       " 'Shuzumu',\n",
       " 'Peasant girl',\n",
       " 'Broadsword man',\n",
       " 'Due',\n",
       " 'Tho',\n",
       " 'Princess Yue',\n",
       " 'Huu',\n",
       " 'Mongke',\n",
       " 'Merchant',\n",
       " 'Villagers',\n",
       " 'Villager',\n",
       " 'Tong',\n",
       " 'Villager #2',\n",
       " 'Villager #3',\n",
       " 'Scary prisoner',\n",
       " 'Prisoner #2',\n",
       " 'Sensitive ruffian',\n",
       " 'Kyoshi',\n",
       " 'Flyer distribution man',\n",
       " 'Yu',\n",
       " 'Male student',\n",
       " 'Male student #2',\n",
       " 'Xin Fu',\n",
       " 'The Boulder',\n",
       " 'The Hippo',\n",
       " 'Fire Nation Man',\n",
       " 'Toph',\n",
       " 'Audience',\n",
       " 'Lao',\n",
       " 'Servant',\n",
       " 'Poppy',\n",
       " 'Earth Kingdom soldier',\n",
       " 'Store owner',\n",
       " 'Gow',\n",
       " 'Lee',\n",
       " 'Gansu',\n",
       " 'Sela',\n",
       " 'Ursa',\n",
       " 'Young Ty Lee',\n",
       " 'Young Azula',\n",
       " 'Young Mai',\n",
       " 'Azulon',\n",
       " 'Old woman',\n",
       " 'Lu Ten',\n",
       " 'Zei',\n",
       " 'Wan Shi Tong',\n",
       " 'Fung',\n",
       " 'Man in the bar',\n",
       " 'Florist',\n",
       " 'White Lotus member',\n",
       " 'Sha-Mo',\n",
       " 'Ghashiun',\n",
       " 'Sha-Mo:',\n",
       " 'Than',\n",
       " 'Ying',\n",
       " 'Ticket lady',\n",
       " 'Earthbender guard',\n",
       " 'General Sung',\n",
       " 'Terra Team leader',\n",
       " 'Ticket woman',\n",
       " 'Terra Team member',\n",
       " 'Tea seller',\n",
       " 'Second Engineer',\n",
       " 'Train conductor',\n",
       " 'Joo Dee',\n",
       " 'Pao',\n",
       " 'Pet store owner',\n",
       " 'University student',\n",
       " 'Pong',\n",
       " 'Customer',\n",
       " 'Long Feng',\n",
       " 'Older guest',\n",
       " 'Younger guest',\n",
       " 'Guest',\n",
       " 'Dai Li agent',\n",
       " 'Joo Dee replacement',\n",
       " 'Girl with umbrella',\n",
       " 'Star',\n",
       " 'Third girl',\n",
       " 'Shop owner',\n",
       " \"Boy's mother\",\n",
       " 'Huge round angry face',\n",
       " 'Tycho',\n",
       " 'Kenji',\n",
       " 'Guard #2',\n",
       " 'Young guest',\n",
       " 'Adult guest',\n",
       " 'Lady on stage',\n",
       " 'Macmu-Ling',\n",
       " 'Ladies',\n",
       " 'Jin',\n",
       " 'Waiter',\n",
       " 'Sandbender #1',\n",
       " 'Sandbender #2',\n",
       " 'Merchant #1',\n",
       " 'Merchant #2',\n",
       " 'Trainer',\n",
       " 'Fire Nation man',\n",
       " 'Unnamed Fire Nation boy',\n",
       " 'Iio',\n",
       " 'Kyoshi Warrior #1',\n",
       " 'Kyoshi Warrior #2',\n",
       " 'Pathik',\n",
       " 'Quon',\n",
       " 'Old Sweepy',\n",
       " 'Brainwasher',\n",
       " 'Joo Dees',\n",
       " 'Longshot',\n",
       " 'Palace woman',\n",
       " 'Kuei',\n",
       " 'Blue dragon',\n",
       " 'Red dragon',\n",
       " 'General How',\n",
       " 'Agent',\n",
       " 'Water Tribe warrior',\n",
       " 'Warrior',\n",
       " 'Katara (flashback)',\n",
       " 'Royal messenger',\n",
       " 'Captured agent',\n",
       " 'Head of the Dai Li',\n",
       " 'How',\n",
       " 'Fire Navy officer',\n",
       " 'Male soldier',\n",
       " 'Kwan',\n",
       " 'On Ji',\n",
       " 'Hide',\n",
       " 'Shoji',\n",
       " 'Class',\n",
       " 'Music teacher',\n",
       " 'Headmaster',\n",
       " 'Male student #1',\n",
       " 'Male soldier #1',\n",
       " 'Female student #1',\n",
       " 'Female Student #1',\n",
       " 'Student',\n",
       " 'Dock',\n",
       " 'Xu',\n",
       " 'Little boy',\n",
       " 'Dock/Xu',\n",
       " 'Mung',\n",
       " 'Female Fire Nation soldier',\n",
       " 'Male Fire Nation soldier',\n",
       " 'Villager #1',\n",
       " 'Villager #4',\n",
       " 'Painted Lady',\n",
       " 'Warden Poon',\n",
       " 'Weapons store shopkeeper',\n",
       " 'Fat',\n",
       " 'Piandao',\n",
       " 'Fire Nation watchman #1',\n",
       " 'Fire Nation watchman #2',\n",
       " 'Ember Island teenager #1',\n",
       " 'Ember Island teenager #2',\n",
       " 'Chan',\n",
       " 'Ruon-Jian',\n",
       " 'Ember Island teenager #3',\n",
       " 'Sozin',\n",
       " 'Ta Min',\n",
       " 'Dealer',\n",
       " 'Town authority',\n",
       " 'Female guard',\n",
       " 'Avatar Roku',\n",
       " 'Hama',\n",
       " 'Ding',\n",
       " 'Male prisoner #1',\n",
       " 'Female prisoner',\n",
       " 'Male prisoner #2',\n",
       " 'Servant #1',\n",
       " 'Servant #2',\n",
       " 'Momo',\n",
       " 'Appa',\n",
       " 'Koala sheep',\n",
       " 'Big Bad Hippo',\n",
       " 'Ming',\n",
       " 'Fire Nation Captain',\n",
       " 'Aang and Zuko',\n",
       " 'Sun Warrior chief',\n",
       " 'Ham Ghao',\n",
       " 'Sun Warrior',\n",
       " 'Male guard',\n",
       " 'Chit Sang',\n",
       " 'Bully guard',\n",
       " 'Male guard #2',\n",
       " 'Bodyguard',\n",
       " 'Bogyguard #2',\n",
       " 'Bodyguard #2',\n",
       " 'Door guard',\n",
       " 'Tough prisoner',\n",
       " 'Gondola guard',\n",
       " 'Gondola guard #2',\n",
       " 'Gondola guard #3',\n",
       " 'Gondola guard #4',\n",
       " 'Young Katara',\n",
       " 'Kya',\n",
       " 'Yon Rha',\n",
       " 'Southern Raiders commander',\n",
       " \"Yon Rha's mother\",\n",
       " 'Actress Katara',\n",
       " 'Actor Sokka',\n",
       " 'Actress Aang',\n",
       " 'Actor Iroh',\n",
       " 'Actor Zuko',\n",
       " 'Actor Bumi',\n",
       " 'Blue Spirit',\n",
       " 'Actor Jet',\n",
       " 'Actress Yue',\n",
       " 'Actor Toph',\n",
       " 'Actress Azula',\n",
       " 'Young boy',\n",
       " 'Actor Ozai',\n",
       " 'Crowd',\n",
       " 'Kuruk',\n",
       " 'Yangchen',\n",
       " 'Lion turtle',\n",
       " 'Banished servant',\n",
       " 'Head of Dai Li',\n",
       " 'Qin Lee',\n",
       " 'Toph and Sokka',\n",
       " 'Katara and Sokka']"
      ]
     },
     "execution_count": 5,
     "metadata": {},
     "output_type": "execute_result"
    }
   ],
   "source": [
    "list(character_list)\n"
   ]
  },
  {
   "attachments": {},
   "cell_type": "markdown",
   "metadata": {},
   "source": [
    "my first idea was removing characters who's name is more than one word but characters like \"young Zuko\" and \"Jeong Jeong\" exist. not as clean as i would like. "
   ]
  },
  {
   "cell_type": "code",
   "execution_count": 6,
   "metadata": {},
   "outputs": [
    {
     "data": {
      "text/plain": [
       "array(['Young Zuko', 'Young Ty Lee', 'Young Azula', 'Young Mai',\n",
       "       'Younger guest', 'Young guest', 'Young Katara', 'Young boy'],\n",
       "      dtype=object)"
      ]
     },
     "execution_count": 6,
     "metadata": {},
     "output_type": "execute_result"
    }
   ],
   "source": [
    "df[df.character.str.contains('Young')].character.unique()"
   ]
  },
  {
   "attachments": {},
   "cell_type": "markdown",
   "metadata": {},
   "source": [
    "many in the main cast have a younger counterpart. do we consider them different characters? it feels wrong but in the interest of time it might be the right move. "
   ]
  },
  {
   "cell_type": "code",
   "execution_count": 7,
   "metadata": {},
   "outputs": [
    {
     "data": {
      "text/plain": [
       "63"
      ]
     },
     "execution_count": 7,
     "metadata": {},
     "output_type": "execute_result"
    }
   ],
   "source": [
    "len(df[df.character.str.contains('|'.join(['Young Zuko', 'Young Ty Lee','Young Azula','Young Mai','Young Katara']))])"
   ]
  },
  {
   "attachments": {},
   "cell_type": "markdown",
   "metadata": {},
   "source": [
    "across all younger characters there is only 63 it is not a big deal if we don't include them as the older versions"
   ]
  },
  {
   "attachments": {},
   "cell_type": "markdown",
   "metadata": {},
   "source": [
    "# cut off for relevant characters\n",
    "it is hard to do it based on character names so maybe it can be done based on line count"
   ]
  },
  {
   "cell_type": "code",
   "execution_count": 8,
   "metadata": {},
   "outputs": [
    {
     "data": {
      "text/plain": [
       "count     372.000000\n",
       "mean       25.706989\n",
       "std       147.932736\n",
       "min         0.000000\n",
       "25%         1.000000\n",
       "50%         3.000000\n",
       "75%        10.000000\n",
       "max      1728.000000\n",
       "Name: dialog, dtype: float64"
      ]
     },
     "execution_count": 8,
     "metadata": {},
     "output_type": "execute_result"
    }
   ],
   "source": [
    "df.groupby('character').count()['dialog'].describe()"
   ]
  },
  {
   "cell_type": "code",
   "execution_count": 9,
   "metadata": {},
   "outputs": [
    {
     "data": {
      "text/plain": [
       "37"
      ]
     },
     "execution_count": 9,
     "metadata": {},
     "output_type": "execute_result"
    }
   ],
   "source": [
    "df_dialog_groupby = df.groupby('character').count()['dialog']\n",
    "df_dialog_groupby[df_dialog_groupby > 25].count()"
   ]
  },
  {
   "cell_type": "code",
   "execution_count": 11,
   "metadata": {},
   "outputs": [
    {
     "data": {
      "text/plain": [
       "character\n",
       "Aang              1728\n",
       "Sokka             1567\n",
       "Katara            1377\n",
       "Zuko               733\n",
       "Toph               481\n",
       "Iroh               324\n",
       "Azula              205\n",
       "Jet                133\n",
       "Suki               112\n",
       "Zhao               105\n",
       "Mai                 76\n",
       "Hakoda              75\n",
       "Roku                66\n",
       "Ty Lee              60\n",
       "Ozai                57\n",
       "Bumi                52\n",
       "Yue                 50\n",
       "Hama                49\n",
       "Warden              46\n",
       "Long Feng           44\n",
       "Piandao             43\n",
       "Mechanist           39\n",
       "Kuei                38\n",
       "Pathik              38\n",
       "Bato                37\n",
       "Teo                 35\n",
       "Pakku               35\n",
       "Chong               33\n",
       "Young Zuko          32\n",
       "Guard               31\n",
       "Jeong Jeong         31\n",
       "Joo Dee             28\n",
       "Zhang leader        28\n",
       "Wu                  27\n",
       "Haru                27\n",
       "Xin Fu              27\n",
       "Zei                 26\n",
       "Sozin               25\n",
       "Chit Sang           24\n",
       "Shyu                24\n",
       "June                22\n",
       "Gan Jin leader      22\n",
       "Fong                21\n",
       "Smellerbee          21\n",
       "Ursa                21\n",
       "Young Azula         20\n",
       "Yu                  19\n",
       "Gyatso              18\n",
       "Arnook              18\n",
       "Oyaji               17\n",
       "Name: dialog, dtype: int64"
      ]
     },
     "execution_count": 11,
     "metadata": {},
     "output_type": "execute_result"
    }
   ],
   "source": [
    "df_dialog_groupby.sort_values(ascending=False).head(50)"
   ]
  },
  {
   "cell_type": "code",
   "execution_count": null,
   "metadata": {},
   "outputs": [],
   "source": []
  }
 ],
 "metadata": {
  "kernelspec": {
   "display_name": "scrapping",
   "language": "python",
   "name": "python3"
  },
  "language_info": {
   "codemirror_mode": {
    "name": "ipython",
    "version": 3
   },
   "file_extension": ".py",
   "mimetype": "text/x-python",
   "name": "python",
   "nbconvert_exporter": "python",
   "pygments_lexer": "ipython3",
   "version": "3.11.2"
  },
  "orig_nbformat": 4
 },
 "nbformat": 4,
 "nbformat_minor": 2
}
